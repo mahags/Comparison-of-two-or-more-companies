{
 "cells": [
  {
   "cell_type": "code",
   "execution_count": 1,
   "id": "64ba2c4c",
   "metadata": {},
   "outputs": [
    {
     "name": "stdout",
     "output_type": "stream",
     "text": [
      "Company Industry Comparison:\n",
      "- AAPL: Technology\n",
      "- GOOG: Technology\n",
      "- MSFT: Technology\n",
      "- AMZN: Retail\n",
      "- TSLA: Automotive\n"
     ]
    }
   ],
   "source": [
    "def compare_companies_by_industry(company_symbols):\n",
    "  \"\"\"\n",
    "  Compares companies based on their industry.\n",
    "\n",
    "  Args:\n",
    "      company_symbols: A list of stock ticker symbols (e.g., [\"AAPL\", \"GOOG\", \"MSFT\"]).\n",
    "\n",
    "  Returns:\n",
    "      A dictionary containing company symbols as keys and their industries as values.\n",
    "  \"\"\"\n",
    "  # You can use an external API or a local database to get company industry data.\n",
    "  # Here's an example using a hypothetical dictionary (replace with your data source)\n",
    "  company_industry_data = {\n",
    "      \"AAPL\": \"Technology\",\n",
    "      \"GOOG\": \"Technology\",\n",
    "      \"MSFT\": \"Technology\",\n",
    "      \"AMZN\": \"Retail\",\n",
    "      \"TSLA\": \"Automotive\",\n",
    "  }\n",
    "\n",
    "  company_industries = {}\n",
    "  for symbol in company_symbols:\n",
    "    if symbol in company_industry_data:\n",
    "      company_industries[symbol] = company_industry_data[symbol]\n",
    "    else:\n",
    "      company_industries[symbol] = \"Industry data not found\"\n",
    "\n",
    "  return company_industries\n",
    "\n",
    "# Example usage\n",
    "company_symbols = [\"AAPL\", \"GOOG\", \"MSFT\", \"AMZN\", \"TSLA\"]\n",
    "industries = compare_companies_by_industry(company_symbols)\n",
    "\n",
    "print(\"Company Industry Comparison:\")\n",
    "for symbol, industry in industries.items():\n",
    "  print(f\"- {symbol}: {industry}\")"
   ]
  },
  {
   "cell_type": "code",
   "execution_count": null,
   "id": "f6069df0",
   "metadata": {},
   "outputs": [],
   "source": []
  }
 ],
 "metadata": {
  "kernelspec": {
   "display_name": "Python 3 (ipykernel)",
   "language": "python",
   "name": "python3"
  },
  "language_info": {
   "codemirror_mode": {
    "name": "ipython",
    "version": 3
   },
   "file_extension": ".py",
   "mimetype": "text/x-python",
   "name": "python",
   "nbconvert_exporter": "python",
   "pygments_lexer": "ipython3",
   "version": "3.10.9"
  }
 },
 "nbformat": 4,
 "nbformat_minor": 5
}
